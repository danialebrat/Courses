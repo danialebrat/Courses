{
 "cells": [
  {
   "cell_type": "raw",
   "id": "17d79142",
   "metadata": {},
   "source": [
    "Time limit: 1.00 s Memory limit: 512 MB\n",
    "\n",
    "Consider an algorithm that takes as input a positive integer n\n",
    "\n",
    ". If n\n",
    " is even, the algorithm divides it by two, and if n\n",
    " is odd, the algorithm multiplies it by three and adds one. The algorithm repeats this, until n\n",
    " is one. For example, the sequence for n=3\n",
    " is as follows:\n",
    "3→10→5→16→8→4→2→1\n",
    "\n",
    "Your task is to simulate the execution of the algorithm for a given value of n\n",
    ".\n",
    "\n",
    "Input\n",
    "\n",
    "The only input line contains an integer n\n",
    ".\n",
    "\n",
    "Output\n",
    "\n",
    "Print a line that contains all values of n\n",
    " during the algorithm.\n",
    "\n",
    "Constraints\n",
    "1≤n≤106\n",
    "\n",
    "Example\n",
    "\n",
    "Input:\n",
    "3\n",
    "\n",
    "Output:\n",
    "3 10 5 16 8 4 2 1"
   ]
  },
  {
   "cell_type": "code",
   "execution_count": 1,
   "id": "5a3c0ded",
   "metadata": {},
   "outputs": [
    {
     "name": "stdout",
     "output_type": "stream",
     "text": [
      "3\n",
      "10 5 16 8 4 2 1 "
     ]
    }
   ],
   "source": [
    "# Read the input\n",
    "n = int(input())\n",
    "\n",
    "while n != 1:\n",
    "    if n % 2 == 0:\n",
    "        n = n // 2\n",
    "        print(n, end=\" \")\n",
    "    else:\n",
    "        n = n * 3 + 1\n",
    "        print(n, end=\" \")"
   ]
  },
  {
   "cell_type": "code",
   "execution_count": 1,
   "id": "8f77be75",
   "metadata": {},
   "outputs": [
    {
     "name": "stdout",
     "output_type": "stream",
     "text": [
      "[3, 4, 5, 6, 7]\n"
     ]
    }
   ],
   "source": [
    "# adding 2\n",
    "def add(x):\n",
    "    return x + 2\n",
    "\n",
    "# The list of numbers\n",
    "numbers = [1, 2, 3, 4, 5]\n",
    "\n",
    "# Using the map function to double each number\n",
    "new_list = list(map(add, numbers))\n",
    "\n",
    "# Output\n",
    "print(new_list)  # Output: [2, 4, 6, 8, 10]"
   ]
  },
  {
   "cell_type": "code",
   "execution_count": null,
   "id": "85d496da",
   "metadata": {},
   "outputs": [],
   "source": []
  }
 ],
 "metadata": {
  "kernelspec": {
   "display_name": "Python 3 (ipykernel)",
   "language": "python",
   "name": "python3"
  },
  "language_info": {
   "codemirror_mode": {
    "name": "ipython",
    "version": 3
   },
   "file_extension": ".py",
   "mimetype": "text/x-python",
   "name": "python",
   "nbconvert_exporter": "python",
   "pygments_lexer": "ipython3",
   "version": "3.9.0"
  }
 },
 "nbformat": 4,
 "nbformat_minor": 5
}
