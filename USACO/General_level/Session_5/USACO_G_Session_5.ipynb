{
 "cells": [
  {
   "cell_type": "raw",
   "id": "5fc5fd37",
   "metadata": {},
   "source": [
    "You are given an array of n\n",
    " integers. You want to modify the array so that it is increasing, i.e., every element is at least as large as the previous element.\n",
    "\n",
    "On each move, you may increase the value of any element by one. What is the minimum number of moves required?\n",
    "\n",
    "Input\n",
    "\n",
    "The first input line contains an integer n\n",
    ": the size of the array.\n",
    "\n",
    "Then, the second line contains n\n",
    " integers x1,x2,…,xn\n",
    ": the contents of the array.\n",
    "\n",
    "Output\n",
    "\n",
    "Print the minimum number of moves.\n",
    "\n",
    "Constraints\n",
    "1≤n≤2⋅105\n",
    "\n",
    "1≤xi≤109\n",
    "\n",
    "Example\n",
    "\n",
    "Input:\n",
    "5\n",
    "3 2 5 1 7\n",
    "\n",
    "Output:\n",
    "5"
   ]
  },
  {
   "cell_type": "code",
   "execution_count": 2,
   "id": "32ef70d6",
   "metadata": {},
   "outputs": [
    {
     "name": "stdout",
     "output_type": "stream",
     "text": [
      "7\n",
      "1 3 1 5 2 3 7\n",
      "7\n"
     ]
    }
   ],
   "source": [
    "# Input\n",
    "n = int(input())\n",
    "array = list(map(int, input().split()))\n",
    "\n",
    "# Initialize the total number of moves\n",
    "moves = 0\n",
    "\n",
    "# Iterate through the array starting from the second element\n",
    "for i in range(1, n):\n",
    "    # store current element before change it\n",
    "    temp = array[i]\n",
    "    \n",
    "    # Update the current element to be at least as large as the previous element\n",
    "    array[i] = max(array[i], array[i-1])\n",
    "    \n",
    "    # Calculate the number of moves needed to make the adjustment\n",
    "    moves += array[i] - temp \n",
    "\n",
    "# Output the minimum number of moves\n",
    "print(moves)"
   ]
  },
  {
   "cell_type": "code",
   "execution_count": null,
   "id": "b8925840",
   "metadata": {},
   "outputs": [],
   "source": []
  }
 ],
 "metadata": {
  "kernelspec": {
   "display_name": "Python 3 (ipykernel)",
   "language": "python",
   "name": "python3"
  },
  "language_info": {
   "codemirror_mode": {
    "name": "ipython",
    "version": 3
   },
   "file_extension": ".py",
   "mimetype": "text/x-python",
   "name": "python",
   "nbconvert_exporter": "python",
   "pygments_lexer": "ipython3",
   "version": "3.9.0"
  }
 },
 "nbformat": 4,
 "nbformat_minor": 5
}
