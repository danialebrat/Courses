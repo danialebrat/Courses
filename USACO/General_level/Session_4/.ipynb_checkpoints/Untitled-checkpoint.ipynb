{
 "cells": [
  {
   "cell_type": "raw",
   "id": "71d602de",
   "metadata": {},
   "source": [
    "One of the farming chores Farmer John dislikes the most is hauling around lots of cow manure. In order to streamline this process, he comes up with a brilliant invention: the manure teleporter! Instead of hauling manure between two points in a cart behind his tractor, he can use the manure teleporter to instantly transport manure from one location to another. Farmer John's farm is built along a single long straight road, so any location on his farm can be described simply using its position along this road (effectively a point on the number line).\n",
    "\n",
    "A teleporter is described by two numbers x and y , where manure brought to location x can be instantly transported to location y, or vice versa.\n",
    "\n",
    "Farmer John wants to transport manure from location a to location b, and he has built a teleporter that might be helpful during this process (of course, he doesn't need to use the teleporter if it doesn't help). Please help him determine the minimum amount of total distance he needs to haul the manure using his tractor.\n",
    "\n",
    "INPUT FORMAT (file teleport.in):\n",
    "\n",
    "The first and only line of input contains four space-separated integers: a and b , describing the start and end locations, followed by x and y, describing the teleporter. All positions are integers in the range 0…100, and they are not necessarily distinct from each-other.\n",
    "\n",
    "OUTPUT FORMAT (file teleport.out): Print a single integer giving the minimum distance Farmer John needs to haul manure in his tractor.\n",
    "\n",
    "SAMPLE INPUT:\n",
    "\n",
    "3 10 8 2\n",
    "\n",
    "SAMPLE OUTPUT:\n",
    "\n",
    "3\n",
    "\n",
    "In this example, the best strategy is to haul the manure from position 3 to position 2, teleport it to position 8, then haul it to position 10. The total distance requiring the tractor is therefore 1 + 2 = 3."
   ]
  },
  {
   "cell_type": "code",
   "execution_count": 3,
   "id": "70a7585a",
   "metadata": {},
   "outputs": [
    {
     "name": "stdout",
     "output_type": "stream",
     "text": [
      "3 10 8 2\n",
      "3\n"
     ]
    }
   ],
   "source": [
    "\n",
    "# Read input\n",
    "a, b, x, y = map(int, input().split())\n",
    "\n",
    "\n",
    "# Calculate the distance if we don't use the teleporter\n",
    "distance_no_teleporter = abs(b - a)\n",
    "    \n",
    "# Calculate the distance if we use the teleporter\n",
    "distance_with_teleporter = abs(x - a) + abs(y - b)\n",
    "distance_with_teleporter_to_y = abs(y - a) + abs(x - b)\n",
    "    \n",
    "# Find the minimum distance among the two cases\n",
    "min_distance_teleporter = min(distance_with_teleporter, distance_with_teleporter_to_y)\n",
    "    \n",
    "\n",
    "# Return the minimum distance\n",
    "minimum_distance = min(distance_no_teleporter, min_distance_teleporter)\n",
    "\n",
    "# print the minimum distance\n",
    "print(minimum_distance)"
   ]
  },
  {
   "cell_type": "code",
   "execution_count": null,
   "id": "6f5852d0",
   "metadata": {},
   "outputs": [],
   "source": []
  }
 ],
 "metadata": {
  "kernelspec": {
   "display_name": "Python 3 (ipykernel)",
   "language": "python",
   "name": "python3"
  },
  "language_info": {
   "codemirror_mode": {
    "name": "ipython",
    "version": 3
   },
   "file_extension": ".py",
   "mimetype": "text/x-python",
   "name": "python",
   "nbconvert_exporter": "python",
   "pygments_lexer": "ipython3",
   "version": "3.9.0"
  }
 },
 "nbformat": 4,
 "nbformat_minor": 5
}
