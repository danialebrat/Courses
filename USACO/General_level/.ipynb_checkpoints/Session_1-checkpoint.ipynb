{
 "cells": [
  {
   "cell_type": "raw",
   "id": "17d79142",
   "metadata": {},
   "source": [
    "Time limit: 1.00 s Memory limit: 512 MB\n",
    "\n",
    "Consider an algorithm that takes as input a positive integer n\n",
    "\n",
    ". If n\n",
    " is even, the algorithm divides it by two, and if n\n",
    " is odd, the algorithm multiplies it by three and adds one. The algorithm repeats this, until n\n",
    " is one. For example, the sequence for n=3\n",
    " is as follows:\n",
    "3→10→5→16→8→4→2→1\n",
    "\n",
    "Your task is to simulate the execution of the algorithm for a given value of n\n",
    ".\n",
    "\n",
    "Input\n",
    "\n",
    "The only input line contains an integer n\n",
    ".\n",
    "\n",
    "Output\n",
    "\n",
    "Print a line that contains all values of n\n",
    " during the algorithm.\n",
    "\n",
    "Constraints\n",
    "1≤n≤106\n",
    "\n",
    "Example\n",
    "\n",
    "Input:\n",
    "3\n",
    "\n",
    "Output:\n",
    "3 10 5 16 8 4 2 1"
   ]
  },
  {
   "cell_type": "code",
   "execution_count": 2,
   "id": "5a3c0ded",
   "metadata": {},
   "outputs": [
    {
     "name": "stdout",
     "output_type": "stream",
     "text": [
      "3\n",
      "3 10 5 16 8 4 2 1\n",
      "Elapsed time: 0.00 seconds\n",
      "Peak memory usage: 72.46 MB\n"
     ]
    }
   ],
   "source": [
    "import time\n",
    "import psutil\n",
    "\n",
    "def algorithm(n):\n",
    "    sequence = [n]\n",
    "    \n",
    "    while n != 1:\n",
    "        if n % 2 == 0:\n",
    "            n = n // 2\n",
    "        else:\n",
    "            n = n * 3 + 1\n",
    "        \n",
    "        sequence.append(n)\n",
    "    \n",
    "    return sequence\n",
    "\n",
    "\n",
    "# Read the input\n",
    "n = int(input())\n",
    "\n",
    "# Start measuring time\n",
    "start_time = time.time()\n",
    "\n",
    "# Call the algorithm function\n",
    "sequence = algorithm(n)\n",
    "\n",
    "# End measuring time\n",
    "end_time = time.time()\n",
    "\n",
    "# Calculate the elapsed time\n",
    "elapsed_time = end_time - start_time\n",
    "\n",
    "# Get the peak memory usage\n",
    "peak_memory = psutil.Process().memory_info().peak_wset / 1024 / 1024  # Convert to MB\n",
    "\n",
    "# Print the sequence\n",
    "print(\" \".join(str(num) for num in sequence))\n",
    "\n",
    "# Print the time and memory usage\n",
    "print(f\"Elapsed time: {elapsed_time:.2f} seconds\")\n",
    "print(f\"Peak memory usage: {peak_memory:.2f} MB\")\n"
   ]
  },
  {
   "cell_type": "raw",
   "id": "f46f475a",
   "metadata": {},
   "source": [
    "Time limit: 1.00 s Memory limit: 512 MB\n",
    "\n",
    "You are given a DNA sequence: a string consisting of characters A, C, G, and T. Your task is to find the longest repetition in the sequence. This is a maximum-length substring containing only one type of character.\n",
    "\n",
    "Input\n",
    "\n",
    "The only input line contains a string of n\n",
    " characters.\n",
    "\n",
    "Output\n",
    "\n",
    "Print one integer: the length of the longest repetition.\n",
    "\n",
    "Constraints\n",
    "1≤n≤106\n",
    "\n",
    "Example\n",
    "\n",
    "Input:\n",
    "ATTCGGGA\n",
    "\n",
    "Output:\n",
    "3"
   ]
  },
  {
   "cell_type": "code",
   "execution_count": 3,
   "id": "5b0ff7fb",
   "metadata": {},
   "outputs": [
    {
     "name": "stdout",
     "output_type": "stream",
     "text": [
      "ATTCGGGA\n",
      "3\n"
     ]
    }
   ],
   "source": [
    "def longest_repetition(sequence):\n",
    "    max_length = 0\n",
    "    current_length = 1\n",
    "\n",
    "    for i in range(1, len(sequence)):\n",
    "        if sequence[i] == sequence[i-1]:\n",
    "            current_length += 1\n",
    "        else:\n",
    "            max_length = max(max_length, current_length)\n",
    "            current_length = 1\n",
    "\n",
    "    # Check for the last repetition\n",
    "    max_length = max(max_length, current_length)\n",
    "\n",
    "    return max_length\n",
    "\n",
    "\n",
    "# Read the input\n",
    "sequence = input().strip()\n",
    "\n",
    "# Call the function to find the longest repetition\n",
    "result = longest_repetition(sequence)\n",
    "\n",
    "# Print the result\n",
    "print(result)\n"
   ]
  },
  {
   "cell_type": "code",
   "execution_count": null,
   "id": "20361972",
   "metadata": {},
   "outputs": [],
   "source": []
  }
 ],
 "metadata": {
  "kernelspec": {
   "display_name": "Python 3 (ipykernel)",
   "language": "python",
   "name": "python3"
  },
  "language_info": {
   "codemirror_mode": {
    "name": "ipython",
    "version": 3
   },
   "file_extension": ".py",
   "mimetype": "text/x-python",
   "name": "python",
   "nbconvert_exporter": "python",
   "pygments_lexer": "ipython3",
   "version": "3.9.0"
  }
 },
 "nbformat": 4,
 "nbformat_minor": 5
}
