{
 "cells": [
  {
   "cell_type": "raw",
   "id": "4aa7b6b9",
   "metadata": {},
   "source": [
    "Several seasons of hot summers and cold winters have taken their toll on Farmer John's fence, and he decides it is time to repaint it, along with the help of his favorite cow, Bessie. Unfortunately, while Bessie is actually remarkably proficient at painting, she is not as good at understanding Farmer John's instructions.\n",
    "If we regard the fence as a one-dimensional number line, Farmer John paints the interval between x=a\n",
    " and x=b. \n",
    " \n",
    "For example, if a=3 and b=5 , then Farmer John paints an interval of length 2. Bessie, misunderstanding Farmer John's instructions, paints the interval from x=c to x=d\n",
    ", which may possibly overlap with part or all of Farmer John's interval. Please determine the total length of fence that is now covered with paint.\n",
    "\n",
    "INPUT FORMAT (file paint.in):\n",
    "The first line of the input contains the integers a and b, separated by a space (a<b).\n",
    "\n",
    "The second line contains integers c and d, separated by a space (c<d).\n",
    "\n",
    "The values of a, b, c, and d all lie in the range 0…100, inclusive.\n",
    "\n",
    "OUTPUT FORMAT (file paint.out):\n",
    "\n",
    "Please output a single line containing the total length of the fence covered with paint.\n",
    "\n",
    "SAMPLE INPUT:\n",
    "\n",
    "7 10\n",
    "4 8\n",
    "\n",
    "SAMPLE OUTPUT:\n",
    "6\n",
    "\n",
    "Here, 6 total units of fence are covered with paint, from x=4 all the way through x=10."
   ]
  },
  {
   "cell_type": "code",
   "execution_count": 4,
   "id": "d91f5153",
   "metadata": {},
   "outputs": [
    {
     "name": "stdout",
     "output_type": "stream",
     "text": [
      "11 13\n",
      "5 8\n",
      "5\n"
     ]
    }
   ],
   "source": [
    "# Read input\n",
    "a, b = map(int, input().split())\n",
    "c, d = map(int, input().split())\n",
    "\n",
    "# check if there is an overlap:\n",
    "if (a<c and b<c) or (c<a and d<a):\n",
    "    painted_start = b - a\n",
    "    painted_end = d - c\n",
    "    total_painted_length = painted_end + painted_start\n",
    "\n",
    "else:\n",
    "    # Calculate the total length of the painted fence\n",
    "    painted_start = min(a, c)\n",
    "    painted_end = max(b, d)\n",
    "    total_painted_length = painted_end - painted_start\n",
    "\n",
    "# Output the result\n",
    "print(total_painted_length)"
   ]
  },
  {
   "cell_type": "code",
   "execution_count": null,
   "id": "dfe82e7f",
   "metadata": {},
   "outputs": [],
   "source": [
    "# adding 2\n",
    "def add(x):\n",
    "    return x + 2\n",
    "\n",
    "# The list of numbers\n",
    "numbers = [1, 2, 3, 4, 5]\n",
    "\n",
    "# Using the map function to double each number\n",
    "new_list = list(map(add, numbers))\n",
    "\n",
    "# Output\n",
    "print(new_list)  # Output: [2, 4, 6, 8, 10]"
   ]
  },
  {
   "cell_type": "raw",
   "id": "a25c4d8e",
   "metadata": {},
   "source": [
    "You are given an array of n\n",
    " integers. You want to modify the array so that it is increasing, i.e., every element is at least as large as the previous element.\n",
    "\n",
    "On each move, you may increase the value of any element by one. What is the minimum number of moves required?\n",
    "\n",
    "Input\n",
    "\n",
    "The first input line contains an integer n\n",
    ": the size of the array.\n",
    "\n",
    "Then, the second line contains n\n",
    " integers x1,x2,…,xn\n",
    ": the contents of the array.\n",
    "\n",
    "Output\n",
    "\n",
    "Print the minimum number of moves.\n",
    "\n",
    "Constraints\n",
    "1≤n≤2⋅105\n",
    "\n",
    "1≤xi≤109\n",
    "\n",
    "Example\n",
    "\n",
    "Input:\n",
    "5\n",
    "3 2 5 1 7\n",
    "\n",
    "Output:\n",
    "5"
   ]
  },
  {
   "cell_type": "code",
   "execution_count": 7,
   "id": "5eb175bc",
   "metadata": {},
   "outputs": [
    {
     "name": "stdout",
     "output_type": "stream",
     "text": [
      "5\n",
      "3 2 5 1 7\n",
      "5\n"
     ]
    }
   ],
   "source": [
    "# Input\n",
    "n = int(input())\n",
    "array = list(map(int, input().split()))\n",
    "\n",
    "# Initialize the total number of moves\n",
    "moves = 0\n",
    "\n",
    "# Iterate through the array starting from the second element\n",
    "for i in range(1, n):\n",
    "    # store current element before change it\n",
    "    temp = array[i]\n",
    "    \n",
    "    # Update the current element to be at least as large as the previous element\n",
    "    array[i] = max(array[i], array[i-1])\n",
    "    \n",
    "    # Calculate the number of moves needed to make the adjustment\n",
    "    moves += array[i] - temp \n",
    "\n",
    "# Output the minimum number of moves\n",
    "print(moves)"
   ]
  },
  {
   "cell_type": "raw",
   "id": "b2137c91",
   "metadata": {},
   "source": [
    "Time limit: 1.00 s Memory limit: 512 MB\n",
    "\n",
    "You are given a DNA sequence: a string consisting of characters A, C, G, and T. Your task is to find the longest repetition in the sequence. This is a maximum-length substring containing only one type of character.\n",
    "\n",
    "Input\n",
    "\n",
    "The only input line contains a string of n characters.\n",
    "\n",
    "Output\n",
    "\n",
    "Print one integer: the length of the longest repetition.\n",
    "\n",
    "Constraints\n",
    "1≤n≤106\n",
    "\n",
    "Example\n",
    "\n",
    "Input:\n",
    "ATTCGGGA\n",
    "\n",
    "Output:\n",
    "3"
   ]
  },
  {
   "cell_type": "code",
   "execution_count": 8,
   "id": "39f643c2",
   "metadata": {},
   "outputs": [
    {
     "name": "stdout",
     "output_type": "stream",
     "text": [
      "ATTCGGGGA\n",
      "4\n"
     ]
    }
   ],
   "source": [
    "def longest_repetition(sequence):\n",
    "    max_length = 0\n",
    "    current_length = 1\n",
    "\n",
    "    for i in range(1, len(sequence)):\n",
    "        if sequence[i] == sequence[i-1]:\n",
    "            current_length += 1\n",
    "        else:\n",
    "            max_length = max(max_length, current_length)\n",
    "            current_length = 1\n",
    "\n",
    "    # Check for the last repetition\n",
    "    max_length = max(max_length, current_length)\n",
    "\n",
    "    return max_length\n",
    "\n",
    "\n",
    "# Read the input\n",
    "sequence = input().strip()\n",
    "\n",
    "# Call the function to find the longest repetition\n",
    "result = longest_repetition(sequence)\n",
    "\n",
    "# Print the result\n",
    "print(result)\n"
   ]
  },
  {
   "cell_type": "code",
   "execution_count": null,
   "id": "e47681dc",
   "metadata": {},
   "outputs": [],
   "source": []
  }
 ],
 "metadata": {
  "kernelspec": {
   "display_name": "Python 3 (ipykernel)",
   "language": "python",
   "name": "python3"
  },
  "language_info": {
   "codemirror_mode": {
    "name": "ipython",
    "version": 3
   },
   "file_extension": ".py",
   "mimetype": "text/x-python",
   "name": "python",
   "nbconvert_exporter": "python",
   "pygments_lexer": "ipython3",
   "version": "3.9.0"
  }
 },
 "nbformat": 4,
 "nbformat_minor": 5
}
