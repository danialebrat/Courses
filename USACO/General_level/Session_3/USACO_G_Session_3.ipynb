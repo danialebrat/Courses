{
 "cells": [
  {
   "cell_type": "raw",
   "id": "e5abf17f",
   "metadata": {},
   "source": [
    "Several seasons of hot summers and cold winters have taken their toll on Farmer John's fence, and he decides it is time to repaint it, along with the help of his favorite cow, Bessie. Unfortunately, while Bessie is actually remarkably proficient at painting, she is not as good at understanding Farmer John's instructions.\n",
    "If we regard the fence as a one-dimensional number line, Farmer John paints the interval between x=a\n",
    " and x=b. \n",
    " \n",
    "For example, if a=3 and b=5 , then Farmer John paints an interval of length 2. Bessie, misunderstanding Farmer John's instructions, paints the interval from x=c to x=d\n",
    ", which may possibly overlap with part or all of Farmer John's interval. Please determine the total length of fence that is now covered with paint.\n",
    "\n",
    "INPUT FORMAT (file paint.in):\n",
    "The first line of the input contains the integers a and b, separated by a space (a<b).\n",
    "\n",
    "The second line contains integers c and d, separated by a space (c<d).\n",
    "\n",
    "The values of a, b, c, and d all lie in the range 0…100, inclusive.\n",
    "\n",
    "OUTPUT FORMAT (file paint.out):\n",
    "\n",
    "Please output a single line containing the total length of the fence covered with paint.\n",
    "\n",
    "SAMPLE INPUT:\n",
    "\n",
    "7 10\n",
    "4 8\n",
    "\n",
    "SAMPLE OUTPUT:\n",
    "6\n",
    "\n",
    "Here, 6 total units of fence are covered with paint, from x=4 all the way through x=10."
   ]
  },
  {
   "cell_type": "code",
   "execution_count": 4,
   "id": "09fc2007",
   "metadata": {},
   "outputs": [
    {
     "name": "stdout",
     "output_type": "stream",
     "text": [
      "11 13\n",
      "5 8\n",
      "5\n"
     ]
    }
   ],
   "source": [
    "# Read input\n",
    "a, b = map(int, input().split())\n",
    "c, d = map(int, input().split())\n",
    "\n",
    "# check if there is an overlap:\n",
    "if (a<c and b<c) or (c<a and d<a):\n",
    "    painted_start = b - a\n",
    "    painted_end = d - c\n",
    "    total_painted_length = painted_end + painted_start\n",
    "\n",
    "else:\n",
    "    # Calculate the total length of the painted fence\n",
    "    painted_start = min(a, c)\n",
    "    painted_end = max(b, d)\n",
    "    total_painted_length = painted_end - painted_start\n",
    "\n",
    "# Output the result\n",
    "print(total_painted_length)"
   ]
  },
  {
   "cell_type": "code",
   "execution_count": null,
   "id": "789f9aef",
   "metadata": {},
   "outputs": [],
   "source": [
    "# adding 2\n",
    "def add(x):\n",
    "    return x + 2\n",
    "\n",
    "# The list of numbers\n",
    "numbers = [1, 2, 3, 4, 5]\n",
    "\n",
    "# Using the map function to double each number\n",
    "new_list = list(map(add, numbers))\n",
    "\n",
    "# Output\n",
    "print(new_list)  # Output: [2, 4, 6, 8, 10]"
   ]
  },
  {
   "cell_type": "raw",
   "id": "5c1d369d",
   "metadata": {},
   "source": []
  },
  {
   "cell_type": "code",
   "execution_count": 7,
   "id": "418645e3",
   "metadata": {},
   "outputs": [
    {
     "name": "stdout",
     "output_type": "stream",
     "text": [
      "5\n",
      "3 2 5 1 7\n",
      "5\n"
     ]
    }
   ],
   "source": []
  },
  {
   "cell_type": "raw",
   "id": "31f70249",
   "metadata": {},
   "source": [
    "Time limit: 1.00 s Memory limit: 512 MB\n",
    "\n",
    "You are given a DNA sequence: a string consisting of characters A, C, G, and T. Your task is to find the longest repetition in the sequence. This is a maximum-length substring containing only one type of character.\n",
    "\n",
    "Input\n",
    "\n",
    "The only input line contains a string of n characters.\n",
    "\n",
    "Output\n",
    "\n",
    "Print one integer: the length of the longest repetition.\n",
    "\n",
    "Constraints\n",
    "1≤n≤106\n",
    "\n",
    "Example\n",
    "\n",
    "Input:\n",
    "ATTCGGGA\n",
    "\n",
    "Output:\n",
    "3"
   ]
  },
  {
   "cell_type": "code",
   "execution_count": 3,
   "id": "392a74c4",
   "metadata": {},
   "outputs": [
    {
     "name": "stdout",
     "output_type": "stream",
     "text": [
      "ATTCGGGGA\n",
      "4\n"
     ]
    }
   ],
   "source": [
    "\n",
    "# Read the input\n",
    "sequence = input()\n",
    "\n",
    "\n",
    "max_length = 0\n",
    "\n",
    "\n",
    "\n",
    "current_length = 1\n",
    "\n",
    "for i in range(1, len(sequence)):\n",
    "    if sequence[i] == sequence[i-1]:\n",
    "        current_length += 1\n",
    "    else:\n",
    "        max_length = max(max_length, current_length)\n",
    "        current_length = 1\n",
    "\n",
    "# Check for the last repetition\n",
    "max_length = max(max_length, current_length)\n",
    "\n",
    "\n",
    "\n",
    "\n",
    "# Print the result\n",
    "print(max_length)\n"
   ]
  },
  {
   "cell_type": "raw",
   "id": "feed3a9f",
   "metadata": {},
   "source": [
    "Problem J2: Chili Peppers (2023)\n",
    "\n",
    "Problem Description\n",
    "\n",
    "Ron is cooking chili using an assortment of peppers.\n",
    "The spiciness of a pepper is measured in Scolville Heat Units (SHU). Ron’s chili is currently\n",
    "not spicy at all, but each time Ron adds a pepper, the total spiciness of the chili increases\n",
    "by the SHU value of that pepper.\n",
    "The SHU values of the peppers available to Ron are shown in the following table:\n",
    "Pepper Name Scolville Heat Units\n",
    "\n",
    "\n",
    "Poblano 1500\n",
    "Mirasol 6000\n",
    "Serrano 15500\n",
    "Cayenne 40000\n",
    "Thai 75000\n",
    "Habanero 125000\n",
    "Your job is to determine the total spiciness of Ron’s chili after he has ﬁnished adding peppers.\n",
    "\n",
    "Input Speciﬁcation\n",
    "The ﬁrst line of input will contain a positive integer N, representing the number of peppers\n",
    "Ron adds to his chili. The next N lines will each contain the name of a pepper Ron has\n",
    "added. Each pepper name will exactly match a name that appears in the table above. Note\n",
    "that more than one pepper of the same name can be added.\n",
    "\n",
    "Output Speciﬁcation\n",
    "The output will consist of a positive integer T, representing the total spiciness of Ron’s chili.\n",
    "\n",
    "Sample Input\n",
    "4\n",
    "Poblano\n",
    "Cayenne\n",
    "Thai\n",
    "Poblano\n",
    "\n",
    "Output for Sample Input\n",
    "118000\n",
    "\n",
    "Explanation of Output for Sample Input\n",
    "A Poblano pepper has an SHU value of 1500. A Cayenne pepper has an SHU value of 40000.\n",
    "A Thai pepper has an SHU value of 75000. The total spiciness of Ron’s chili is therefore\n",
    "1500 + 40000 + 75000 + 1500 = 118000."
   ]
  },
  {
   "cell_type": "code",
   "execution_count": 10,
   "id": "b99f37ec",
   "metadata": {},
   "outputs": [
    {
     "name": "stdout",
     "output_type": "stream",
     "text": [
      "4\n",
      "Poblano\n",
      "Cayenne\n",
      "Thai\n",
      "Poblano\n",
      "118000\n"
     ]
    }
   ],
   "source": [
    "\n",
    "# Define a dictionary with the SHU values of the peppers\n",
    "shu_values = {\n",
    "        \"Poblano\": 1500,\n",
    "        \"Mirasol\": 6000,\n",
    "        \"Serrano\": 15500,\n",
    "        \"Cayenne\": 40000,\n",
    "        \"Thai\": 75000,\n",
    "        \"Habanero\": 125000\n",
    "}\n",
    "\n",
    "total_spiciness = 0\n",
    "\n",
    "\n",
    "# Read input\n",
    "number_of_peppers = int(input())\n",
    "for number in range(number_of_peppers):\n",
    "    pepper = input()\n",
    "    total_spiciness += shu_values[pepper]\n",
    "\n",
    "\n",
    "# Calculate and print the total spiciness\n",
    "print(total_spiciness)\n"
   ]
  },
  {
   "cell_type": "code",
   "execution_count": null,
   "id": "63920b5a",
   "metadata": {},
   "outputs": [],
   "source": []
  }
 ],
 "metadata": {
  "kernelspec": {
   "display_name": "Python 3 (ipykernel)",
   "language": "python",
   "name": "python3"
  },
  "language_info": {
   "codemirror_mode": {
    "name": "ipython",
    "version": 3
   },
   "file_extension": ".py",
   "mimetype": "text/x-python",
   "name": "python",
   "nbconvert_exporter": "python",
   "pygments_lexer": "ipython3",
   "version": "3.9.0"
  }
 },
 "nbformat": 4,
 "nbformat_minor": 5
}
