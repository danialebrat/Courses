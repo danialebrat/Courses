{
 "cells": [
  {
   "cell_type": "raw",
   "id": "3dc27c29",
   "metadata": {},
   "source": [
    "Problem:\n",
    "    \n",
    "Given a list of size N elements, write a program to find the largest element in it.\n",
    "\n",
    "Example:\n",
    "    \n",
    "Input: list = [100, 50, 4, 99, 1000, 45, 450]\n",
    "Output: 1000\n",
    "    \n",
    "Explanation: 1000 is the largest element in the given list.\n"
   ]
  },
  {
   "cell_type": "code",
   "execution_count": 27,
   "id": "80ce9e87",
   "metadata": {},
   "outputs": [
    {
     "name": "stdout",
     "output_type": "stream",
     "text": [
      "1000\n"
     ]
    }
   ],
   "source": [
    "first_list = [100, 50, 4, 99, 1000, 45, 450]\n",
    "\n",
    "max_num = 0\n",
    "\n",
    "for number in first_list:\n",
    "    if number > max_num:\n",
    "        max_num = number\n",
    "\n",
    "print(max_num)\n",
    "    "
   ]
  },
  {
   "cell_type": "raw",
   "id": "9e81066f",
   "metadata": {},
   "source": [
    "Time limit: 1.00 s Memory limit: 512 MB\n",
    "You are given all numbers between 1,2,…,n\n",
    " except one. Your task is to find the missing number.\n",
    "\n",
    "Input\n",
    "\n",
    "The first input line contains an integer n\n",
    ".\n",
    "\n",
    "The second line contains n−1\n",
    " numbers. Each number is distinct and between 1\n",
    " and n\n",
    " (inclusive).\n",
    "\n",
    "Output\n",
    "\n",
    "Print the missing number.\n",
    "\n",
    "Constraints\n",
    "2≤n≤2⋅105\n",
    "\n",
    "Example\n",
    "\n",
    "Input:\n",
    "5\n",
    "2 3 1 5\n",
    "\n",
    "Output:\n",
    "4"
   ]
  },
  {
   "cell_type": "code",
   "execution_count": 29,
   "id": "ada8e595",
   "metadata": {},
   "outputs": [
    {
     "name": "stdout",
     "output_type": "stream",
     "text": [
      "5\n",
      "2 3 1 5\n",
      "[2, 3, 1, 5]\n",
      "4\n"
     ]
    }
   ],
   "source": [
    "# Input\n",
    "n = int(input())\n",
    "\n",
    "input_numbers = input()\n",
    "\n",
    "\n",
    "# string.split(separator, maxsplit)\n",
    "\n",
    "mylist = []\n",
    "for number in input_numbers.split():\n",
    "    mylist.append(int(number))\n",
    "    \n",
    "\n",
    "# numbers = list(map(int, input().split()))\n",
    "    \n",
    "print(mylist)\n",
    "\n",
    "\n",
    "# Calculate the sum of all numbers from 1 to n\n",
    "total_sum = n * (n + 1) // 2\n",
    "\n",
    "# Calculate the sum of given n-1 numbers\n",
    "given_sum = sum(mylist)\n",
    "\n",
    "# Find the missing number\n",
    "missing_number = total_sum - given_sum\n",
    "\n",
    "# Output\n",
    "print(missing_number)"
   ]
  },
  {
   "cell_type": "raw",
   "id": "d61972bf",
   "metadata": {},
   "source": [
    "Problem Description\n",
    "\n",
    "A charity is having a silent auction where people place bids on a prize without knowing\n",
    "anyone else’s bid. Each bid includes a person’s name and the amount of their bid. After the\n",
    "silent auction is over, the winner is the person who has placed the highest bid. If there is a\n",
    "tie, the person whose bid was placed ﬁrst wins. Your job is to determine the winner of the\n",
    "silent auction.\n",
    "\n",
    "Input Speciﬁcation\n",
    "\n",
    "The ﬁrst line of input contains a positive integer N, where 1 ≤N ≤100, representing the\n",
    "number of bids collected at the silent auction. Each of the next N pairs of lines contains a\n",
    "person’s name on one line, and the amount of their bid, in dollars, on the next line. Each\n",
    "bid is a positive integer less than 2000. The order of the input is the order in which bids\n",
    "were placed.\n",
    "\n",
    "Output Speciﬁcation\n",
    "Output the name of the person who has won the silent auction.\n",
    "\n",
    "Sample Input 1\n",
    "3\n",
    "Ahmed\n",
    "300\n",
    "Suzanne\n",
    "500\n",
    "Ivona\n",
    "450\n",
    "\n",
    "Output for Sample Input 1\n",
    "Suzanne"
   ]
  },
  {
   "cell_type": "code",
   "execution_count": 30,
   "id": "7074c1b6",
   "metadata": {},
   "outputs": [
    {
     "name": "stdout",
     "output_type": "stream",
     "text": [
      "3\n",
      "ahmed\n",
      "300\n",
      "suz\n",
      "500\n",
      "ivona\n",
      "450\n",
      "suz\n"
     ]
    }
   ],
   "source": [
    "n = int(input())  # read in the number of bids\n",
    "\n",
    "# initialize variables to keep track of the highest bid and the winner\n",
    "highest_bid = 0\n",
    "winner = \"\"\n",
    "\n",
    "# loop through each bid\n",
    "for i in range(n):\n",
    "    name = input()  # read in the bidder's name\n",
    "    bid = int(input())  # read in the bid amount\n",
    "\n",
    "    # check if this bid is higher than the current highest bid\n",
    "    if bid > highest_bid:\n",
    "        highest_bid = bid\n",
    "        winner = name\n",
    "    # if there is a tie, the winner is the person whose bid was placed first\n",
    "    elif bid == highest_bid:\n",
    "        continue\n",
    "\n",
    "        \n",
    "#  output the name of the winner\n",
    "print(winner)"
   ]
  }
 ],
 "metadata": {
  "kernelspec": {
   "display_name": "Python 3 (ipykernel)",
   "language": "python",
   "name": "python3"
  },
  "language_info": {
   "codemirror_mode": {
    "name": "ipython",
    "version": 3
   },
   "file_extension": ".py",
   "mimetype": "text/x-python",
   "name": "python",
   "nbconvert_exporter": "python",
   "pygments_lexer": "ipython3",
   "version": "3.9.0"
  }
 },
 "nbformat": 4,
 "nbformat_minor": 5
}
