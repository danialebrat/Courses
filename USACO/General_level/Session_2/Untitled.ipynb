{
 "cells": [
  {
   "cell_type": "raw",
   "id": "3dc27c29",
   "metadata": {},
   "source": [
    "Problem:\n",
    "    \n",
    "Given a list of size N elements, write a program to find the largest element in it.\n",
    "\n",
    "Example:\n",
    "    \n",
    "Input: list = [100, 50, 4, 99, 1000, 45, 450]\n",
    "Output: 1000\n",
    "    \n",
    "Explanation: 1000 is the largest element in the given list.\n"
   ]
  },
  {
   "cell_type": "code",
   "execution_count": 27,
   "id": "80ce9e87",
   "metadata": {},
   "outputs": [
    {
     "name": "stdout",
     "output_type": "stream",
     "text": [
      "1000\n"
     ]
    }
   ],
   "source": [
    "first_list = [100, 50, 4, 99, 1000, 45, 450]\n",
    "\n",
    "max_num = 0\n",
    "\n",
    "for number in first_list:\n",
    "    if number > max_num:\n",
    "        max_num = number\n",
    "\n",
    "print(max_num)\n",
    "    "
   ]
  },
  {
   "cell_type": "raw",
   "id": "9b05514d",
   "metadata": {},
   "source": [
    "Time limit: 1.00 s Memory limit: 512 MB\n",
    "\n",
    "You are given a DNA sequence: a string consisting of characters A, C, G, and T. Your task is to find the longest repetition in the sequence. This is a maximum-length substring containing only one type of character.\n",
    "\n",
    "Input\n",
    "\n",
    "The only input line contains a string of n characters.\n",
    "\n",
    "Output\n",
    "\n",
    "Print one integer: the length of the longest repetition.\n",
    "\n",
    "Constraints\n",
    "1≤n≤106\n",
    "\n",
    "Example\n",
    "\n",
    "Input:\n",
    "ATTCGGGA\n",
    "\n",
    "Output:\n",
    "3"
   ]
  },
  {
   "cell_type": "code",
   "execution_count": 28,
   "id": "28e242bf",
   "metadata": {},
   "outputs": [
    {
     "name": "stdout",
     "output_type": "stream",
     "text": [
      "ATTCGGGA\n",
      "3\n"
     ]
    }
   ],
   "source": [
    "def longest_repetition(sequence):\n",
    "    max_length = 0\n",
    "    current_length = 1\n",
    "\n",
    "    for i in range(1, len(sequence)):\n",
    "        if sequence[i] == sequence[i-1]:\n",
    "            current_length += 1\n",
    "        else:\n",
    "            max_length = max(max_length, current_length)\n",
    "            current_length = 1\n",
    "\n",
    "    # Check for the last repetition\n",
    "    max_length = max(max_length, current_length)\n",
    "\n",
    "    return max_length\n",
    "\n",
    "\n",
    "# Read the input\n",
    "sequence = input().strip()\n",
    "\n",
    "# Call the function to find the longest repetition\n",
    "result = longest_repetition(sequence)\n",
    "\n",
    "# Print the result\n",
    "print(result)\n"
   ]
  },
  {
   "cell_type": "raw",
   "id": "9e81066f",
   "metadata": {},
   "source": [
    "Time limit: 1.00 s Memory limit: 512 MB\n",
    "You are given all numbers between 1,2,…,n\n",
    " except one. Your task is to find the missing number.\n",
    "\n",
    "Input\n",
    "\n",
    "The first input line contains an integer n\n",
    ".\n",
    "\n",
    "The second line contains n−1\n",
    " numbers. Each number is distinct and between 1\n",
    " and n\n",
    " (inclusive).\n",
    "\n",
    "Output\n",
    "\n",
    "Print the missing number.\n",
    "\n",
    "Constraints\n",
    "2≤n≤2⋅105\n",
    "\n",
    "Example\n",
    "\n",
    "Input:\n",
    "5\n",
    "2 3 1 5\n",
    "\n",
    "Output:\n",
    "4"
   ]
  },
  {
   "cell_type": "code",
   "execution_count": 29,
   "id": "ada8e595",
   "metadata": {},
   "outputs": [
    {
     "name": "stdout",
     "output_type": "stream",
     "text": [
      "5\n",
      "2 3 1 5\n",
      "[2, 3, 1, 5]\n",
      "4\n"
     ]
    }
   ],
   "source": [
    "# Input\n",
    "n = int(input())\n",
    "\n",
    "input_numbers = input()\n",
    "\n",
    "\n",
    "# string.split(separator, maxsplit)\n",
    "\n",
    "mylist = []\n",
    "for number in input_numbers.split():\n",
    "    mylist.append(int(number))\n",
    "    \n",
    "\n",
    "# numbers = list(map(int, input().split()))\n",
    "    \n",
    "print(mylist)\n",
    "\n",
    "\n",
    "# Calculate the sum of all numbers from 1 to n\n",
    "total_sum = n * (n + 1) // 2\n",
    "\n",
    "# Calculate the sum of given n-1 numbers\n",
    "given_sum = sum(mylist)\n",
    "\n",
    "# Find the missing number\n",
    "missing_number = total_sum - given_sum\n",
    "\n",
    "# Output\n",
    "print(missing_number)"
   ]
  },
  {
   "cell_type": "raw",
   "id": "d61972bf",
   "metadata": {},
   "source": [
    "Problem Description\n",
    "\n",
    "A charity is having a silent auction where people place bids on a prize without knowing\n",
    "anyone else’s bid. Each bid includes a person’s name and the amount of their bid. After the\n",
    "silent auction is over, the winner is the person who has placed the highest bid. If there is a\n",
    "tie, the person whose bid was placed ﬁrst wins. Your job is to determine the winner of the\n",
    "silent auction.\n",
    "\n",
    "Input Speciﬁcation\n",
    "\n",
    "The ﬁrst line of input contains a positive integer N, where 1 ≤N ≤100, representing the\n",
    "number of bids collected at the silent auction. Each of the next N pairs of lines contains a\n",
    "person’s name on one line, and the amount of their bid, in dollars, on the next line. Each\n",
    "bid is a positive integer less than 2000. The order of the input is the order in which bids\n",
    "were placed.\n",
    "\n",
    "Output Speciﬁcation\n",
    "Output the name of the person who has won the silent auction.\n",
    "\n",
    "Sample Input 1\n",
    "3\n",
    "Ahmed\n",
    "300\n",
    "Suzanne\n",
    "500\n",
    "Ivona\n",
    "450\n",
    "\n",
    "Output for Sample Input 1\n",
    "Suzanne"
   ]
  },
  {
   "cell_type": "code",
   "execution_count": 30,
   "id": "7074c1b6",
   "metadata": {},
   "outputs": [
    {
     "name": "stdout",
     "output_type": "stream",
     "text": [
      "3\n",
      "ahmed\n",
      "300\n",
      "suz\n",
      "500\n",
      "ivona\n",
      "450\n",
      "suz\n"
     ]
    }
   ],
   "source": [
    "n = int(input())  # read in the number of bids\n",
    "\n",
    "# initialize variables to keep track of the highest bid and the winner\n",
    "highest_bid = 0\n",
    "winner = \"\"\n",
    "\n",
    "# loop through each bid\n",
    "for i in range(n):\n",
    "    name = input()  # read in the bidder's name\n",
    "    bid = int(input())  # read in the bid amount\n",
    "\n",
    "    # check if this bid is higher than the current highest bid\n",
    "    if bid > highest_bid:\n",
    "        highest_bid = bid\n",
    "        winner = name\n",
    "    # if there is a tie, the winner is the person whose bid was placed first\n",
    "    elif bid == highest_bid:\n",
    "        continue\n",
    "\n",
    "        \n",
    "#  output the name of the winner\n",
    "print(winner)"
   ]
  },
  {
   "cell_type": "raw",
   "id": "bc499229",
   "metadata": {},
   "source": [
    "Several seasons of hot summers and cold winters have taken their toll on Farmer John's fence, and he decides it is time to repaint it, along with the help of his favorite cow, Bessie. Unfortunately, while Bessie is actually remarkably proficient at painting, she is not as good at understanding Farmer John's instructions.\n",
    "If we regard the fence as a one-dimensional number line, Farmer John paints the interval between x=a\n",
    " and x=b. \n",
    " \n",
    "For example, if a=3 and b=5 , then Farmer John paints an interval of length 2. Bessie, misunderstanding Farmer John's instructions, paints the interval from x=c to x=d\n",
    ", which may possibly overlap with part or all of Farmer John's interval. Please determine the total length of fence that is now covered with paint.\n",
    "\n",
    "INPUT FORMAT (file paint.in):\n",
    "The first line of the input contains the integers a and b, separated by a space (a<b).\n",
    "\n",
    "The second line contains integers c and d, separated by a space (c<d).\n",
    "\n",
    "The values of a, b, c, and d all lie in the range 0…100, inclusive.\n",
    "\n",
    "OUTPUT FORMAT (file paint.out):\n",
    "\n",
    "Please output a single line containing the total length of the fence covered with paint.\n",
    "\n",
    "SAMPLE INPUT:\n",
    "\n",
    "7 10\n",
    "4 8\n",
    "\n",
    "SAMPLE OUTPUT:\n",
    "6\n",
    "\n",
    "Here, 6 total units of fence are covered with paint, from x=4 all the way through x=10."
   ]
  },
  {
   "cell_type": "code",
   "execution_count": 31,
   "id": "86ce7bcc",
   "metadata": {},
   "outputs": [
    {
     "name": "stdout",
     "output_type": "stream",
     "text": [
      "7 10\n",
      "4 8\n",
      "6\n"
     ]
    }
   ],
   "source": [
    "# Read input\n",
    "a, b = map(int, input().split())\n",
    "c, d = map(int, input().split())\n",
    "\n",
    "# Calculate the total length of the painted fence\n",
    "painted_start = min(a, c)\n",
    "painted_end = max(b, d)\n",
    "total_painted_length = painted_end - painted_start\n",
    "\n",
    "# Output the result\n",
    "print(total_painted_length)\n"
   ]
  },
  {
   "cell_type": "code",
   "execution_count": 32,
   "id": "b3619492",
   "metadata": {},
   "outputs": [
    {
     "ename": "TypeError",
     "evalue": "'list' object is not callable",
     "output_type": "error",
     "traceback": [
      "\u001b[1;31m---------------------------------------------------------------------------\u001b[0m",
      "\u001b[1;31mTypeError\u001b[0m                                 Traceback (most recent call last)",
      "Cell \u001b[1;32mIn[32], line 9\u001b[0m\n\u001b[0;32m      6\u001b[0m numbers \u001b[38;5;241m=\u001b[39m [\u001b[38;5;241m1\u001b[39m, \u001b[38;5;241m2\u001b[39m, \u001b[38;5;241m3\u001b[39m, \u001b[38;5;241m4\u001b[39m, \u001b[38;5;241m5\u001b[39m]\n\u001b[0;32m      8\u001b[0m \u001b[38;5;66;03m# Using the map function to double each number\u001b[39;00m\n\u001b[1;32m----> 9\u001b[0m new_list \u001b[38;5;241m=\u001b[39m \u001b[38;5;28;43mlist\u001b[39;49m\u001b[43m(\u001b[49m\u001b[38;5;28;43mmap\u001b[39;49m\u001b[43m(\u001b[49m\u001b[43madd\u001b[49m\u001b[43m,\u001b[49m\u001b[43m \u001b[49m\u001b[43mnumbers\u001b[49m\u001b[43m)\u001b[49m\u001b[43m)\u001b[49m\n\u001b[0;32m     11\u001b[0m \u001b[38;5;66;03m# Output\u001b[39;00m\n\u001b[0;32m     12\u001b[0m \u001b[38;5;28mprint\u001b[39m(new_list)  \u001b[38;5;66;03m# Output: [2, 4, 6, 8, 10]\u001b[39;00m\n",
      "\u001b[1;31mTypeError\u001b[0m: 'list' object is not callable"
     ]
    }
   ],
   "source": [
    "# adding 2\n",
    "def add(x):\n",
    "    return x + 2\n",
    "\n",
    "# The list of numbers\n",
    "numbers = [1, 2, 3, 4, 5]\n",
    "\n",
    "# Using the map function to double each number\n",
    "new_list = list(map(add, numbers))\n",
    "\n",
    "# Output\n",
    "print(new_list)  # Output: [2, 4, 6, 8, 10]"
   ]
  },
  {
   "cell_type": "raw",
   "id": "d8fefb03",
   "metadata": {},
   "source": [
    "You are given an array of n\n",
    " integers. You want to modify the array so that it is increasing, i.e., every element is at least as large as the previous element.\n",
    "\n",
    "On each move, you may increase the value of any element by one. What is the minimum number of moves required?\n",
    "\n",
    "Input\n",
    "\n",
    "The first input line contains an integer n\n",
    ": the size of the array.\n",
    "\n",
    "Then, the second line contains n\n",
    " integers x1,x2,…,xn\n",
    ": the contents of the array.\n",
    "\n",
    "Output\n",
    "\n",
    "Print the minimum number of moves.\n",
    "\n",
    "Constraints\n",
    "1≤n≤2⋅105\n",
    "\n",
    "1≤xi≤109\n",
    "\n",
    "Example\n",
    "\n",
    "Input:\n",
    "5\n",
    "3 2 5 1 7\n",
    "\n",
    "Output:\n",
    "5"
   ]
  },
  {
   "cell_type": "code",
   "execution_count": 33,
   "id": "bfc2a887",
   "metadata": {},
   "outputs": [
    {
     "name": "stdout",
     "output_type": "stream",
     "text": [
      "5\n",
      "3 2 5 1 7\n"
     ]
    },
    {
     "ename": "TypeError",
     "evalue": "'list' object is not callable",
     "output_type": "error",
     "traceback": [
      "\u001b[1;31m---------------------------------------------------------------------------\u001b[0m",
      "\u001b[1;31mTypeError\u001b[0m                                 Traceback (most recent call last)",
      "Cell \u001b[1;32mIn[33], line 3\u001b[0m\n\u001b[0;32m      1\u001b[0m \u001b[38;5;66;03m# Input\u001b[39;00m\n\u001b[0;32m      2\u001b[0m n \u001b[38;5;241m=\u001b[39m \u001b[38;5;28mint\u001b[39m(\u001b[38;5;28minput\u001b[39m())\n\u001b[1;32m----> 3\u001b[0m array \u001b[38;5;241m=\u001b[39m \u001b[38;5;28;43mlist\u001b[39;49m\u001b[43m(\u001b[49m\u001b[38;5;28;43mmap\u001b[39;49m\u001b[43m(\u001b[49m\u001b[38;5;28;43mint\u001b[39;49m\u001b[43m,\u001b[49m\u001b[43m \u001b[49m\u001b[38;5;28;43minput\u001b[39;49m\u001b[43m(\u001b[49m\u001b[43m)\u001b[49m\u001b[38;5;241;43m.\u001b[39;49m\u001b[43msplit\u001b[49m\u001b[43m(\u001b[49m\u001b[43m)\u001b[49m\u001b[43m)\u001b[49m\u001b[43m)\u001b[49m\n\u001b[0;32m      5\u001b[0m \u001b[38;5;66;03m# Initialize the total number of moves\u001b[39;00m\n\u001b[0;32m      6\u001b[0m moves \u001b[38;5;241m=\u001b[39m \u001b[38;5;241m0\u001b[39m\n",
      "\u001b[1;31mTypeError\u001b[0m: 'list' object is not callable"
     ]
    }
   ],
   "source": [
    "# Input\n",
    "n = int(input())\n",
    "array = list(map(int, input().split()))\n",
    "\n",
    "# Initialize the total number of moves\n",
    "moves = 0\n",
    "\n",
    "# Iterate through the array starting from the second element\n",
    "for i in range(1, n):\n",
    "    # Update the current element to be at least as large as the previous element\n",
    "    array[i] = max(array[i], array[i-1])\n",
    "    \n",
    "    # Calculate the number of moves needed to make the adjustment\n",
    "    moves += array[i] - array[i-1] \n",
    "\n",
    "# Output the minimum number of moves\n",
    "print(moves)"
   ]
  },
  {
   "cell_type": "code",
   "execution_count": null,
   "id": "cebdd061",
   "metadata": {},
   "outputs": [],
   "source": []
  }
 ],
 "metadata": {
  "kernelspec": {
   "display_name": "Python 3 (ipykernel)",
   "language": "python",
   "name": "python3"
  },
  "language_info": {
   "codemirror_mode": {
    "name": "ipython",
    "version": 3
   },
   "file_extension": ".py",
   "mimetype": "text/x-python",
   "name": "python",
   "nbconvert_exporter": "python",
   "pygments_lexer": "ipython3",
   "version": "3.9.0"
  }
 },
 "nbformat": 4,
 "nbformat_minor": 5
}
