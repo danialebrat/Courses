{
 "cells": [
  {
   "cell_type": "code",
   "execution_count": 1,
   "id": "c1a104a5",
   "metadata": {},
   "outputs": [],
   "source": [
    "# Import necessary libraries\n",
    "import pandas as pd\n",
    "import numpy as np\n",
    "from sklearn.model_selection import train_test_split\n",
    "from sklearn.tree import DecisionTreeClassifier, plot_tree\n",
    "from sklearn.metrics import accuracy_score, confusion_matrix, classification_report\n",
    "import matplotlib\n"
   ]
  },
  {
   "cell_type": "code",
   "execution_count": 5,
   "id": "50fc77d3",
   "metadata": {},
   "outputs": [
    {
     "name": "stdout",
     "output_type": "stream",
     "text": [
      "    age  hypertension  heart_disease  avg_glucose_level        bmi  stroke  \\\n",
      "0  67.0             0              1             228.69  36.600000       1   \n",
      "1  61.0             0              0             202.21  28.893237       1   \n",
      "2  80.0             0              1             105.92  32.500000       1   \n",
      "3  49.0             0              0             171.23  34.400000       1   \n",
      "4  79.0             1              0             174.12  24.000000       1   \n",
      "\n",
      "   gender_Male  gender_Other  ever_married_Yes  work_type_Never_worked  \\\n",
      "0            1             0                 1                       0   \n",
      "1            0             0                 1                       0   \n",
      "2            1             0                 1                       0   \n",
      "3            0             0                 1                       0   \n",
      "4            0             0                 1                       0   \n",
      "\n",
      "   work_type_Private  work_type_Self-employed  work_type_children  \\\n",
      "0                  1                        0                   0   \n",
      "1                  0                        1                   0   \n",
      "2                  1                        0                   0   \n",
      "3                  1                        0                   0   \n",
      "4                  0                        1                   0   \n",
      "\n",
      "   Residence_type_Urban  smoking_status_formerly smoked  \\\n",
      "0                     1                               1   \n",
      "1                     0                               0   \n",
      "2                     0                               0   \n",
      "3                     1                               0   \n",
      "4                     0                               0   \n",
      "\n",
      "   smoking_status_never smoked  smoking_status_smokes  \n",
      "0                            0                      0  \n",
      "1                            1                      0  \n",
      "2                            1                      0  \n",
      "3                            0                      1  \n",
      "4                            1                      0  \n"
     ]
    }
   ],
   "source": [
    "\n",
    "\n",
    "# Load the data\n",
    "data = pd.read_csv('stroke_data.csv')\n",
    "\n",
    "# Preprocessing\n",
    "# Drop the ID column as it does not contribute to the prediction\n",
    "data.drop('id', axis=1, inplace=True)\n",
    "\n",
    "# Convert categorical features to numerical using one-hot encoding\n",
    "data = pd.get_dummies(data, columns=['gender', 'ever_married', 'work_type', 'Residence_type', 'smoking_status'], drop_first=True)\n",
    "\n",
    "\n",
    "\n",
    "# Replace NaN values with the mean value of that column\n",
    "data.fillna(data.mean(), inplace=True)\n",
    "\n",
    "print(data.head())\n",
    "\n"
   ]
  },
  {
   "cell_type": "code",
   "execution_count": 6,
   "id": "dc0dbb8c",
   "metadata": {},
   "outputs": [
    {
     "name": "stdout",
     "output_type": "stream",
     "text": [
      "False\n",
      "age                               True\n",
      "hypertension                      True\n",
      "heart_disease                     True\n",
      "avg_glucose_level                 True\n",
      "bmi                               True\n",
      "stroke                            True\n",
      "gender_Male                       True\n",
      "gender_Other                      True\n",
      "ever_married_Yes                  True\n",
      "work_type_Never_worked            True\n",
      "work_type_Private                 True\n",
      "work_type_Self-employed           True\n",
      "work_type_children                True\n",
      "Residence_type_Urban              True\n",
      "smoking_status_formerly smoked    True\n",
      "smoking_status_never smoked       True\n",
      "smoking_status_smokes             True\n",
      "dtype: bool\n"
     ]
    }
   ],
   "source": [
    "# Check for any NaN or infinity values in the data\n",
    "print(data.isnull().values.any())\n",
    "print(np.isfinite(data).all())"
   ]
  },
  {
   "cell_type": "code",
   "execution_count": 3,
   "id": "c3932f77",
   "metadata": {},
   "outputs": [
    {
     "name": "stdout",
     "output_type": "stream",
     "text": [
      "Accuracy: 0.9060665362035225\n",
      "Confusion Matrix:\n",
      " [[912  48]\n",
      " [ 48  14]]\n",
      "Classification Report:\n",
      "               precision    recall  f1-score   support\n",
      "\n",
      "           0       0.95      0.95      0.95       960\n",
      "           1       0.23      0.23      0.23        62\n",
      "\n",
      "    accuracy                           0.91      1022\n",
      "   macro avg       0.59      0.59      0.59      1022\n",
      "weighted avg       0.91      0.91      0.91      1022\n",
      "\n"
     ]
    }
   ],
   "source": [
    "\n",
    "# Split the data into training and testing sets\n",
    "X = data.drop('stroke', axis=1)\n",
    "y = data['stroke']\n",
    "X_train, X_test, y_train, y_test = train_test_split(X, y, test_size=0.2, random_state=42)\n",
    "\n",
    "# Train the decision tree classifier\n",
    "clf = DecisionTreeClassifier(random_state=42)\n",
    "clf.fit(X_train, y_train)\n",
    "\n",
    "# Evaluate the model\n",
    "y_pred = clf.predict(X_test)\n",
    "accuracy = accuracy_score(y_test, y_pred)\n",
    "conf_matrix = confusion_matrix(y_test, y_pred)\n",
    "class_report = classification_report(y_test, y_pred)\n",
    "\n",
    "# Print the evaluation metrics\n",
    "print(\"Accuracy:\", accuracy)\n",
    "print(\"Confusion Matrix:\\n\", conf_matrix)\n",
    "print(\"Classification Report:\\n\", class_report)\n",
    "\n"
   ]
  },
  {
   "cell_type": "code",
   "execution_count": 9,
   "id": "4436d859",
   "metadata": {},
   "outputs": [
    {
     "ename": "ModuleNotFoundError",
     "evalue": "No module named 'graphviz'",
     "output_type": "error",
     "traceback": [
      "\u001b[1;31m---------------------------------------------------------------------------\u001b[0m",
      "\u001b[1;31mModuleNotFoundError\u001b[0m                       Traceback (most recent call last)",
      "Cell \u001b[1;32mIn[9], line 2\u001b[0m\n\u001b[0;32m      1\u001b[0m \u001b[38;5;28;01mfrom\u001b[39;00m \u001b[38;5;21;01msklearn\u001b[39;00m\u001b[38;5;21;01m.\u001b[39;00m\u001b[38;5;21;01mtree\u001b[39;00m \u001b[38;5;28;01mimport\u001b[39;00m export_graphviz\n\u001b[1;32m----> 2\u001b[0m \u001b[38;5;28;01mimport\u001b[39;00m \u001b[38;5;21;01mgraphviz\u001b[39;00m\n\u001b[0;32m      4\u001b[0m \u001b[38;5;66;03m# Export the decision tree to a Graphviz format\u001b[39;00m\n\u001b[0;32m      5\u001b[0m dot_data \u001b[38;5;241m=\u001b[39m export_graphviz(clf, out_file\u001b[38;5;241m=\u001b[39m\u001b[38;5;28;01mNone\u001b[39;00m, \n\u001b[0;32m      6\u001b[0m                             feature_names\u001b[38;5;241m=\u001b[39mdata\u001b[38;5;241m.\u001b[39mcolumns[:\u001b[38;5;241m-\u001b[39m\u001b[38;5;241m1\u001b[39m], \n\u001b[0;32m      7\u001b[0m                             class_names\u001b[38;5;241m=\u001b[39m[\u001b[38;5;124m'\u001b[39m\u001b[38;5;124mNo Stroke\u001b[39m\u001b[38;5;124m'\u001b[39m, \u001b[38;5;124m'\u001b[39m\u001b[38;5;124mStroke\u001b[39m\u001b[38;5;124m'\u001b[39m],  \n\u001b[0;32m      8\u001b[0m                             filled\u001b[38;5;241m=\u001b[39m\u001b[38;5;28;01mTrue\u001b[39;00m, rounded\u001b[38;5;241m=\u001b[39m\u001b[38;5;28;01mTrue\u001b[39;00m,  \n\u001b[0;32m      9\u001b[0m                             special_characters\u001b[38;5;241m=\u001b[39m\u001b[38;5;28;01mTrue\u001b[39;00m)  \n",
      "\u001b[1;31mModuleNotFoundError\u001b[0m: No module named 'graphviz'"
     ]
    }
   ],
   "source": [
    "from sklearn.tree import export_graphviz\n",
    "import graphviz\n",
    "\n",
    "# Export the decision tree to a Graphviz format\n",
    "dot_data = export_graphviz(clf, out_file=None, \n",
    "                            feature_names=data.columns[:-1], \n",
    "                            class_names=['No Stroke', 'Stroke'],  \n",
    "                            filled=True, rounded=True,  \n",
    "                            special_characters=True)  \n",
    "\n",
    "\n",
    "graph = graphviz.Source(dot_data)\n",
    "graph.render('decision_tree')"
   ]
  },
  {
   "cell_type": "code",
   "execution_count": null,
   "id": "0a0528f8",
   "metadata": {},
   "outputs": [],
   "source": []
  }
 ],
 "metadata": {
  "kernelspec": {
   "display_name": "Python 3 (ipykernel)",
   "language": "python",
   "name": "python3"
  },
  "language_info": {
   "codemirror_mode": {
    "name": "ipython",
    "version": 3
   },
   "file_extension": ".py",
   "mimetype": "text/x-python",
   "name": "python",
   "nbconvert_exporter": "python",
   "pygments_lexer": "ipython3",
   "version": "3.9.0"
  }
 },
 "nbformat": 4,
 "nbformat_minor": 5
}
