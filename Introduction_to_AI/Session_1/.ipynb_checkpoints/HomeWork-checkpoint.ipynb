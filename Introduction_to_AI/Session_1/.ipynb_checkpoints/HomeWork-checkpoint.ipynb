{
 "cells": [
  {
   "cell_type": "markdown",
   "id": "a39eb023",
   "metadata": {},
   "source": [
    "# Q1: Complete the Below program"
   ]
  },
  {
   "cell_type": "markdown",
   "id": "d2affec7",
   "metadata": {},
   "source": [
    "Write a Program that prints the sum of the given list. "
   ]
  },
  {
   "cell_type": "markdown",
   "id": "6f9e88e3",
   "metadata": {},
   "source": [
    "x is a list that is given as below\n",
    "\n",
    "x = [3, 4, 8, 20, 12, 35, 16]\n",
    "\n",
    "\n",
    "write a program to calculate the sum of the x's elements and print the result\n",
    "sum of the elements means:\n",
    "3 + 4 + 8 + 20 + 12 + 35 + 16 \n",
    "So the result should be 96\n",
    "\n"
   ]
  },
  {
   "cell_type": "code",
   "execution_count": 3,
   "id": "41f73c9d",
   "metadata": {},
   "outputs": [],
   "source": [
    "# Write the program:\n",
    "\n",
    "x = [3, 4, 8, 20, 12, 35, 16]\n",
    "\n",
    "\n",
    "\n"
   ]
  },
  {
   "cell_type": "markdown",
   "id": "969a090c",
   "metadata": {},
   "source": [
    "# Q2: Write a function for adding two integers"
   ]
  },
  {
   "cell_type": "markdown",
   "id": "51e46596",
   "metadata": {},
   "source": [
    "Write a Function named \"adding\" that takes two integers and prints the sum.\n"
   ]
  },
  {
   "cell_type": "code",
   "execution_count": null,
   "id": "1f3d8122",
   "metadata": {},
   "outputs": [],
   "source": [
    "# write the function in here:\n",
    "\n",
    "\n"
   ]
  },
  {
   "cell_type": "markdown",
   "id": "913cce36",
   "metadata": {},
   "source": [
    "After writing the function, the below code should work and prints the result:"
   ]
  },
  {
   "cell_type": "code",
   "execution_count": null,
   "id": "07fdbb6f",
   "metadata": {},
   "outputs": [],
   "source": [
    "a = 20\n",
    "\n",
    "b = 15\n",
    "\n",
    "adding(a, b)"
   ]
  },
  {
   "cell_type": "markdown",
   "id": "8d1a589e",
   "metadata": {},
   "source": [
    "# Q3: Write a program: "
   ]
  },
  {
   "cell_type": "markdown",
   "id": "824beb24",
   "metadata": {},
   "source": [
    "Let’s say you have a list X = [3, 4, 8, 20, 12, 35, 16]\n",
    "\n",
    "Write a program that prints Odd elements of the X\n",
    "\n",
    "Therefore, the output of the program should be:\n",
    "\n",
    "3 and 35\n"
   ]
  },
  {
   "cell_type": "code",
   "execution_count": 6,
   "id": "eac9713f",
   "metadata": {},
   "outputs": [],
   "source": [
    "# Write the program:\n",
    "\n",
    "x = [3, 4, 8, 20, 12, 35, 16]\n",
    "\n",
    "\n"
   ]
  },
  {
   "cell_type": "code",
   "execution_count": null,
   "id": "f6f8c7b9",
   "metadata": {},
   "outputs": [],
   "source": []
  }
 ],
 "metadata": {
  "kernelspec": {
   "display_name": "Python 3 (ipykernel)",
   "language": "python",
   "name": "python3"
  },
  "language_info": {
   "codemirror_mode": {
    "name": "ipython",
    "version": 3
   },
   "file_extension": ".py",
   "mimetype": "text/x-python",
   "name": "python",
   "nbconvert_exporter": "python",
   "pygments_lexer": "ipython3",
   "version": "3.9.0"
  }
 },
 "nbformat": 4,
 "nbformat_minor": 5
}
