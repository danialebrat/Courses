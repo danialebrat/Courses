{
 "cells": [
  {
   "cell_type": "code",
   "execution_count": 1,
   "id": "9e6f21a8",
   "metadata": {},
   "outputs": [],
   "source": [
    "# Define the available products and their prices\n",
    "products = {\"T-shirt\": 20, \"Hat\": 10, \"Mug\": 5, \"Jeans\":15}"
   ]
  },
  {
   "cell_type": "code",
   "execution_count": 2,
   "id": "3e485dac",
   "metadata": {},
   "outputs": [
    {
     "name": "stdout",
     "output_type": "stream",
     "text": [
      "Welcome to our online store!\n",
      "What is your name? Danial\n",
      "Hello, Danial! We have the following products for sale:\n",
      "T-shirt: $20\n",
      "Hat: $10\n",
      "Mug: $5\n",
      "Jeans: $15\n",
      "What would you like to buy? Hat\n",
      "Great! The total cost for your purchase of Hat is $10.\n",
      "What is your address? Ontario, Canada, XXX\n",
      "What is your phone number? 123456\n",
      "==============================\n",
      "RECEIPT\n",
      "==============================\n",
      "Name: Danial\n",
      "Product: Hat\n",
      "Price: $10\n",
      "Address: Ontario, Canada, XXX\n",
      "Phone number: 123456\n",
      "==============================\n"
     ]
    }
   ],
   "source": [
    "\n",
    "# Greet the user and ask for their name\n",
    "print(\"Welcome to our online store!\")\n",
    "name = input(\"What is your name? \")\n",
    "\n",
    "\n",
    "# List the available products\n",
    "print(f\"Hello, {name}! We have the following products for sale:\")\n",
    "\n",
    "for product, price in products.items():\n",
    "    print(f\"{product}: ${price}\")\n",
    "\n",
    "    \n",
    "# Ask what they want to buy\n",
    "purchase = input(\"What would you like to buy? \")\n",
    "\n",
    "\n",
    "\n",
    "# Check if the selected product is available\n",
    "if purchase not in products:\n",
    "    print(\"Sorry, that product is not available.\")\n",
    "    exit()\n",
    "\n",
    "        \n",
    "# Process their order\n",
    "price = products[purchase]\n",
    "print(f\"Great! The total cost for your purchase of {purchase} is ${price}.\")\n",
    "\n",
    "\n",
    "\n",
    "# Take the user's information\n",
    "address = input(\"What is your address? \")\n",
    "phone_number = input(\"What is your phone number? \")\n",
    "\n",
    "\n",
    "\n",
    "\n",
    "\n",
    "# Print the receipt\n",
    "print(\"=\" * 30)\n",
    "print(\"RECEIPT\")\n",
    "print(\"=\" * 30)\n",
    "print(f\"Name: {name}\")\n",
    "print(f\"Product: {purchase}\")\n",
    "print(f\"Price: ${price}\")\n",
    "print(f\"Address: {address}\")\n",
    "print(f\"Phone number: {phone_number}\")\n",
    "print(\"=\" * 30)"
   ]
  },
  {
   "cell_type": "code",
   "execution_count": null,
   "id": "552c827a",
   "metadata": {},
   "outputs": [],
   "source": []
  }
 ],
 "metadata": {
  "kernelspec": {
   "display_name": "Python 3 (ipykernel)",
   "language": "python",
   "name": "python3"
  },
  "language_info": {
   "codemirror_mode": {
    "name": "ipython",
    "version": 3
   },
   "file_extension": ".py",
   "mimetype": "text/x-python",
   "name": "python",
   "nbconvert_exporter": "python",
   "pygments_lexer": "ipython3",
   "version": "3.9.0"
  }
 },
 "nbformat": 4,
 "nbformat_minor": 5
}
