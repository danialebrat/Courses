{
 "cells": [
  {
   "cell_type": "raw",
   "id": "04356eb8",
   "metadata": {},
   "source": [
    "Problem J3: Harp Tuning (write the program in python)\n",
    "Problem Description\n",
    "\n",
    "The CCC harp is a stringed instrument with strings labelled\n",
    "A, B, . . . , T . Like other instruments, it can be out of tune.\n",
    "A musically inclined computer science student has written\n",
    "a clever computer program to help tune the harp. The\n",
    "program analyzes the sounds produced by the harp and\n",
    "provides instructions to ﬁx each string that is out of tune.\n",
    "Each instruction includes a group of strings, whether they\n",
    "should be tightened or loosened, and by how many turns.\n",
    "Unfortunately, the output of the program is not very user\n",
    "friendly. It outputs all the tuning instructions on a single\n",
    "line. For example, the single line AFB+8HC-4 actually con-\n",
    "tains two tuning instructions: AFB+8 and HC-4. The ﬁrst\n",
    "instruction indicates that harp strings A, F , and B should\n",
    "be tightened 8 turns, and the second instruction indicates\n",
    "that harp strings H and C should be loosened 4 turns.\n",
    "\n",
    "Your job is to take a single line of tuning instructions and make them easier to read.\n",
    "\n",
    "Input Speciﬁcation\n",
    "There will be one line of input which is a sequence of tuning instructions. Each tuning\n",
    "instruction will be a sequence of uppercase letters, followed by a plus sign (+) or minus\n",
    "sign (-), followed by a positive integer. There will be at least one instruction and at least\n",
    "one letter per instruction. Also, each uppercase letter will appear at most once.\n",
    "\n",
    "Output Speciﬁcation\n",
    "There will be one line of output for each tuning instruction. Each line of output will consist of\n",
    "three parts, each separated by a single space: the uppercase letters referring to the strings,\n",
    "tighten if the instruction contained a plus sign or loosen if the instruction contained a\n",
    "minus sign, and the number of turns.\n",
    "\n",
    "\n",
    "\n",
    "Sample Input 1\n",
    "AFB+8HC-4\n",
    "\n",
    "Output for Sample Input 1\n",
    "AFB tighten 8\n",
    "HC loosen 4\n",
    "\n",
    "Explanation of Sample Output 1\n",
    "The input contains two tuning instructions: AFB+8 and HC-4.\n",
    "\n",
    "Sample Input 2\n",
    "AFB+8SC-4H-2GDPE+9\n",
    "\n",
    "Output for Sample Input 2\n",
    "AFB tighten 8\n",
    "SC loosen 4\n",
    "H loosen 2\n",
    "GDPE tighten 9\n",
    "\n",
    "Explanation of Sample Output 2\n",
    "The input contains four tuning instructions: AFB+8, SC-4, H-2, and GDPE"
   ]
  },
  {
   "cell_type": "code",
   "execution_count": 12,
   "id": "51c447c8",
   "metadata": {},
   "outputs": [
    {
     "name": "stdout",
     "output_type": "stream",
     "text": [
      "AFB+8SC-4H-2GDPE+9\n",
      "AFB tighten 8\n",
      "SC loosen 4\n",
      "H loosen 2\n",
      "GDPE tighten 9\n"
     ]
    }
   ],
   "source": [
    "# getting the input \n",
    "N = input()\n",
    "\n",
    "# create a temp list to store everything before observing \"+\" or \"-\"\n",
    "# we will empty this list after reaching to \"+\" or \"-\"\n",
    "Temp_list_of_string_names = []\n",
    "\n",
    "\n",
    "for string_name in N:\n",
    "    \n",
    "    if string_name.isdigit():\n",
    "        print(string_name)\n",
    "        continue\n",
    "        \n",
    "    if string_name != \"+\" and string_name != \"-\":\n",
    "        print(string_name, end=\"\")\n",
    "    \n",
    "    else:\n",
    "        if string_name == \"+\":\n",
    "            print(\" tighten \", end=\"\")\n",
    "\n",
    "        else:\n",
    "            print(\" loosen \", end=\"\")\n",
    "        \n",
    "        \n",
    "            \n",
    "\n",
    "\n",
    "            \n",
    "        "
   ]
  },
  {
   "cell_type": "code",
   "execution_count": null,
   "id": "d8edafed",
   "metadata": {},
   "outputs": [],
   "source": []
  }
 ],
 "metadata": {
  "kernelspec": {
   "display_name": "Python 3 (ipykernel)",
   "language": "python",
   "name": "python3"
  },
  "language_info": {
   "codemirror_mode": {
    "name": "ipython",
    "version": 3
   },
   "file_extension": ".py",
   "mimetype": "text/x-python",
   "name": "python",
   "nbconvert_exporter": "python",
   "pygments_lexer": "ipython3",
   "version": "3.9.0"
  }
 },
 "nbformat": 4,
 "nbformat_minor": 5
}
