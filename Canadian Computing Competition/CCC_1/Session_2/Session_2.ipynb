{
 "cells": [
  {
   "cell_type": "markdown",
   "id": "f2d2cabd",
   "metadata": {},
   "source": [
    "# J1_2021"
   ]
  },
  {
   "cell_type": "raw",
   "id": "7bb22dd4",
   "metadata": {},
   "source": [
    "Problem Description\n",
    "\n",
    "At sea level, atmospheric pressure is 100 kPa and water begins to boil at 100◦C. As you go\n",
    "above sea level, atmospheric pressure decreases, and water boils at lower temperatures. As\n",
    "you go below sea level, atmospheric pressure increases, and water boils at higher tempera-\n",
    "tures. A formula relating atmospheric pressure to the temperature at which water begins to\n",
    "boil is\n",
    "\n",
    "P = 5 ×B−400\n",
    "\n",
    "where P is atmospheric pressure measured in kPa, and B is the temperature at which water\n",
    "begins to boil measured in ◦C.\n",
    "\n",
    "Given the temperature at which water begins to boil, determine atmospheric pressure. Also\n",
    "determine if you are below sea level, at sea level, or above sea level.\n",
    "Note that the science of this problem is generally correct but the values of 100◦C and 100 kPa\n",
    "are approximate and the formula is a simpliﬁcation of the exact relationship between water’s\n",
    "boiling point and atmospheric pressure.\n",
    "\n",
    "Input Speciﬁcation\n",
    "The input is one line containing an integer B where B ≥80 and B ≤200. This represents\n",
    "the temperature in ◦C at which water begins to boil.\n",
    "\n",
    "Output Speciﬁcation\n",
    "The output is two lines. The ﬁrst line must contain an integer which is atmospheric pressure\n",
    "measured in kPa. The second line must contain the integer -1, 0, or 1. This integer represents\n",
    "whether you are below sea level, at sea level, or above sea level, respectively.\n",
    "\n",
    "Sample Input 1\n",
    "99\n",
    "\n",
    "Output for Sample Input 1\n",
    "95\n",
    "1\n",
    "\n",
    "Explanation of Output for Sample Input 1\n",
    "When B = 99, we can substitute into the formula and get P = 5 ×99 −400 which equals\n",
    "95. Since 95 kPa is less than 100 kPa, you are above sea level."
   ]
  },
  {
   "cell_type": "code",
   "execution_count": 3,
   "id": "851261ce",
   "metadata": {},
   "outputs": [
    {
     "name": "stdout",
     "output_type": "stream",
     "text": [
      "99\n",
      "95\n",
      "1\n"
     ]
    }
   ],
   "source": [
    "# Read input\n",
    "B = int(input())  # Temperature at which water begins to boil\n",
    "\n",
    "# Calculate atmospheric pressure\n",
    "P = 5 * B - 400\n",
    "\n",
    "# Determine position relative to sea level\n",
    "position = 0  # At sea level by default\n",
    "\n",
    "if P > 100:\n",
    "    position = -1  # below sea level\n",
    "elif P < 100:\n",
    "    position = 1  # above sea level\n",
    "\n",
    "# Print the atmospheric pressure and position\n",
    "print(P)\n",
    "print(position)\n"
   ]
  },
  {
   "cell_type": "markdown",
   "id": "54bea23a",
   "metadata": {},
   "source": [
    "# J2_2023"
   ]
  },
  {
   "cell_type": "raw",
   "id": "f9a8bf7b",
   "metadata": {},
   "source": [
    "Problem J2: Chili Peppers\n",
    "\n",
    "Problem Description\n",
    "\n",
    "Ron is cooking chili using an assortment of peppers.\n",
    "The spiciness of a pepper is measured in Scolville Heat Units (SHU). Ron’s chili is currently\n",
    "not spicy at all, but each time Ron adds a pepper, the total spiciness of the chili increases\n",
    "by the SHU value of that pepper.\n",
    "\n",
    "The SHU values of the peppers available to Ron are shown in the following table:\n",
    "Pepper Name Scolville Heat Units\n",
    "\n",
    "\n",
    "----------------------\n",
    "    Poblano 1500\n",
    "    Mirasol 6000\n",
    "    Serrano 15500\n",
    "    Cayenne 40000\n",
    "    Thai 75000\n",
    "    Habanero 125000\n",
    "----------------------\n",
    "\n",
    "Your job is to determine the total spiciness of Ron’s chili after he has ﬁnished adding peppers.\n",
    "\n",
    "Input Speciﬁcation\n",
    "The ﬁrst line of input will contain a positive integer N, representing the number of peppers\n",
    "Ron adds to his chili. The next N lines will each contain the name of a pepper Ron has\n",
    "added. Each pepper name will exactly match a name that appears in the table above. Note\n",
    "that more than one pepper of the same name can be added.\n",
    "\n",
    "---------------------------\n",
    "\n",
    "Output Speciﬁcation\n",
    "The output will consist of a positive integer T, representing the total spiciness of Ron’s chili.\n",
    "\n",
    "Sample Input\n",
    "4\n",
    "Poblano\n",
    "Cayenne\n",
    "Thai\n",
    "Poblano\n",
    "\n",
    "Output for Sample Input\n",
    "118000\n",
    "\n",
    "Explanation of Output for Sample Input\n",
    "A Poblano pepper has an SHU value of 1500. A Cayenne pepper has an SHU value of 40000.\n",
    "A Thai pepper has an SHU value of 75000. The total spiciness of Ron’s chili is therefore\n",
    "1500 + 40000 + 75000 + 1500 = 118000."
   ]
  },
  {
   "cell_type": "code",
   "execution_count": 4,
   "id": "e9895c04",
   "metadata": {},
   "outputs": [
    {
     "name": "stdout",
     "output_type": "stream",
     "text": [
      "4\n",
      "Poblano\n",
      "Cayenne\n",
      "Thai\n",
      "Poblano\n",
      "118000\n"
     ]
    }
   ],
   "source": [
    "# Pepper SHU values\n",
    "pepper_shu = {\n",
    "    'Poblano': 1500,\n",
    "    'Mirasol': 6000,\n",
    "    'Serrano': 15500,\n",
    "    'Cayenne': 40000,\n",
    "    'Thai': 75000,\n",
    "    'Habanero': 125000\n",
    "}\n",
    "\n",
    "# Read input\n",
    "N = int(input())  # Number of peppers added\n",
    "total_spiciness = 0\n",
    "\n",
    "# Calculate total spiciness\n",
    "for _ in range(N):\n",
    "    pepper_name = input()\n",
    "    total_spiciness += pepper_shu[pepper_name]\n",
    "\n",
    "# Print the total spiciness\n",
    "print(total_spiciness)\n"
   ]
  },
  {
   "cell_type": "markdown",
   "id": "685a5e65",
   "metadata": {},
   "source": [
    "# J2_2021"
   ]
  },
  {
   "cell_type": "raw",
   "id": "6c406dd3",
   "metadata": {},
   "source": [
    "Problem Description\n",
    "\n",
    "A charity is having a silent auction where people place bids on a prize without knowing\n",
    "anyone else’s bid. Each bid includes a person’s name and the amount of their bid. After the\n",
    "silent auction is over, the winner is the person who has placed the highest bid. If there is a\n",
    "tie, the person whose bid was placed ﬁrst wins. Your job is to determine the winner of the\n",
    "silent auction.\n",
    "\n",
    "Input Speciﬁcation\n",
    "\n",
    "The ﬁrst line of input contains a positive integer N, where 1 ≤N ≤100, representing the\n",
    "number of bids collected at the silent auction. Each of the next N pairs of lines contains a\n",
    "person’s name on one line, and the amount of their bid, in dollars, on the next line. Each\n",
    "bid is a positive integer less than 2000. The order of the input is the order in which bids\n",
    "were placed.\n",
    "\n",
    "Output Speciﬁcation\n",
    "Output the name of the person who has won the silent auction.\n",
    "\n",
    "Sample Input 1\n",
    "3\n",
    "Ahmed\n",
    "300\n",
    "Suzanne\n",
    "500\n",
    "Ivona\n",
    "450\n",
    "\n",
    "Output for Sample Input 1\n",
    "Suzanne"
   ]
  },
  {
   "cell_type": "code",
   "execution_count": 5,
   "id": "d77aca81",
   "metadata": {},
   "outputs": [
    {
     "name": "stdout",
     "output_type": "stream",
     "text": [
      "3\n",
      "ahmed\n",
      "300\n",
      "suzan\n",
      "500\n",
      "ivona\n",
      "450\n",
      "suzan\n"
     ]
    }
   ],
   "source": [
    "n = int(input())  # read in the number of bids\n",
    "\n",
    "# initialize variables to keep track of the highest bid and the winner\n",
    "highest_bid = 0\n",
    "winner = \"\"\n",
    "\n",
    "# loop through each bid\n",
    "for i in range(n):\n",
    "    name = input()  # read in the bidder's name\n",
    "    bid = int(input())  # read in the bid amount\n",
    "\n",
    "    # check if this bid is higher than the current highest bid\n",
    "    if bid > highest_bid:\n",
    "        highest_bid = bid\n",
    "        winner = name\n",
    "    # if there is a tie, the winner is the person whose bid was placed first\n",
    "    elif bid == highest_bid:\n",
    "        continue\n",
    "\n",
    "        \n",
    "#  output the name of the winner\n",
    "print(winner)"
   ]
  },
  {
   "cell_type": "code",
   "execution_count": null,
   "id": "fd658c1c",
   "metadata": {},
   "outputs": [],
   "source": []
  }
 ],
 "metadata": {
  "kernelspec": {
   "display_name": "Python 3 (ipykernel)",
   "language": "python",
   "name": "python3"
  },
  "language_info": {
   "codemirror_mode": {
    "name": "ipython",
    "version": 3
   },
   "file_extension": ".py",
   "mimetype": "text/x-python",
   "name": "python",
   "nbconvert_exporter": "python",
   "pygments_lexer": "ipython3",
   "version": "3.9.0"
  }
 },
 "nbformat": 4,
 "nbformat_minor": 5
}
