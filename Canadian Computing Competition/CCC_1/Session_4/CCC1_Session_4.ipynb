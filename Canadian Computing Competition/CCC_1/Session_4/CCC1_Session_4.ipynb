{
 "cells": [
  {
   "cell_type": "markdown",
   "id": "2f9bc801",
   "metadata": {},
   "source": [
    "# Problem J2: Epidemiology"
   ]
  },
  {
   "cell_type": "raw",
   "id": "de41602b",
   "metadata": {},
   "source": [
    "Problem Description\n",
    "\n",
    "People who study epidemiology use models to analyze the spread of disease. In this problem, we\n",
    "use a simple model.\n",
    "\n",
    "When a person has a disease, they infect exactly R other people but only on the very next day. No\n",
    "person is infected more than once. We want to determine when a total of more than P people have\n",
    "had the disease.\n",
    "\n",
    "(This problem was designed before the current coronavirus outbreak, and we acknowledge the\n",
    "distress currently being experienced by many people worldwide because of this and other diseases.\n",
    "We hope that including this problem at this time highlights the important roles that computer\n",
    "science and mathematics play in solving real-world problems.)\n",
    "\n",
    "Input Speciﬁcation\n",
    "\n",
    "There are three lines of input. Each line contains one positive integer. The ﬁrst line contains the\n",
    "value of P. The second line contains N, the number of people who have the disease on Day 0. The\n",
    "third line contains the value of R. Assume that P ≤107 and N ≤P and R ≤10.\n",
    "\n",
    "Output Speciﬁcation\n",
    "Output the number of the ﬁrst day on which the total number of people who have had the disease\n",
    "is greater than P.\n",
    "\n",
    "Sample Input 1\n",
    "750\n",
    "1\n",
    "5\n",
    "\n",
    "Output for Sample Input 1\n",
    "4\n",
    "\n",
    "Explanation of Output for Sample Input 1\n",
    "The 1 person on Day 0 with the disease infects 5 people on Day 1. On Day 2, exactly 25 people\n",
    "are infected. On Day 3, exactly 125 people are infected. A total of 1 + 5 + 25 + 125 + 625 = 781\n",
    "people have had the disease by the end of Day 4 and 781 > 750.\n",
    "\n",
    "Sample Input 2\n",
    "10\n",
    "2\n",
    "1\n",
    "\n",
    "Output for Sample Input 2\n",
    "5\n",
    "\n",
    "La version franc¸aise ﬁgure a` la suite de la version anglaise.\n",
    "\n",
    "\n",
    "Explanation of Output for Sample Input 2\n",
    "There are 2 people on Day 0 with the disease. On each other day, exactly 2 people are infected. By\n",
    "the end of Day 4, a total of exactly 10 people have had the disease and by the end of Day 5, more\n",
    "than 10 people have had the disease.\n"
   ]
  },
  {
   "cell_type": "code",
   "execution_count": 2,
   "id": "17b21fcc",
   "metadata": {},
   "outputs": [
    {
     "name": "stdout",
     "output_type": "stream",
     "text": [
      "750\n",
      "1\n",
      "5\n",
      "4\n"
     ]
    }
   ],
   "source": [
    "\n",
    "\n",
    "# Input\n",
    "P = int(input())\n",
    "N = int(input())\n",
    "R = int(input())\n",
    "\n",
    "\n",
    "total_infected = N\n",
    "days = 0\n",
    "\n",
    "while total_infected <= P:\n",
    "    infected_today = N * R\n",
    "    total_infected += infected_today\n",
    "    N = infected_today\n",
    "    days += 1\n",
    "\n",
    "\n",
    "\n",
    "# Output\n",
    "print(days)\n"
   ]
  },
  {
   "cell_type": "markdown",
   "id": "d3046f27",
   "metadata": {},
   "source": [
    "# Problem J2: Fergusonball Ratings"
   ]
  },
  {
   "cell_type": "raw",
   "id": "49965db1",
   "metadata": {},
   "source": [
    "\n",
    "Problem Description\n",
    "\n",
    "Fergusonball players are given a star rating based on the number of points that they score\n",
    "and the number of fouls that they commit. Speciﬁcally, they are awarded 5 stars for each\n",
    "point scored, and 3 stars are taken away for each foul committed. For every player, the\n",
    "number of points that they score is greater than the number of fouls that they commit.\n",
    "Your job is to determine how many players on a team have a star rating greater than 40.\n",
    "You also need to determine if the team is considered a gold team which means that all the\n",
    "players have a star rating greater than 40.\n",
    "\n",
    "Input Speciﬁcation\n",
    "\n",
    "The ﬁrst line of input consists of a positive integer Nrepresenting the total number of players\n",
    "on the team. This is followed by a pair of consecutive lines for each player. The ﬁrst line\n",
    "in a pair is the number of points that the player scored. The second line in a pair is the\n",
    "number of fouls that the player committed. Both the number of points and the number of\n",
    "fouls, are non-negative integers.\n",
    "\n",
    "Output Speciﬁcation\n",
    "\n",
    "Output the number of players that have a star rating greater than 40, immediately followed\n",
    "by a plus sign if the team is considered a gold team.\n",
    "\n",
    "Sample Input 1\n",
    "\n",
    "3\n",
    "12\n",
    "4\n",
    "10\n",
    "3\n",
    "9\n",
    "1\n",
    "\n",
    "Output for Sample Input 1\n",
    "3+\n",
    "\n",
    "Explanation of Output for Sample Input 1\n",
    "The image shows the star rating for each player.\n",
    "For example, the star rating for the ﬁrst player is\n",
    "12×5−4×3 = 48. All three players have a rating\n",
    "greater than 40 so the team is considered a gold\n",
    "team."
   ]
  },
  {
   "cell_type": "code",
   "execution_count": 5,
   "id": "f87f4a32",
   "metadata": {},
   "outputs": [
    {
     "name": "stdout",
     "output_type": "stream",
     "text": [
      "3\n",
      "12\n",
      "4\n",
      "10\n",
      "3\n",
      "9\n",
      "1\n",
      "3+\n"
     ]
    }
   ],
   "source": [
    "N = int(input())\n",
    "M = 0\n",
    "\n",
    "for i in range(N):\n",
    "  P = int(input())\n",
    "  F = int(input())\n",
    "  total = (P*5)-(F*3)\n",
    "  if total > 40:\n",
    "    M+=1\n",
    "if M == N:\n",
    "  print(str(M)+\"+\")\n",
    "\n",
    "else:\n",
    "  print(M)\n"
   ]
  },
  {
   "cell_type": "markdown",
   "id": "7e80c87f",
   "metadata": {},
   "source": [
    "# Fence painting"
   ]
  },
  {
   "cell_type": "raw",
   "id": "9c2a9762",
   "metadata": {},
   "source": [
    "Several seasons of hot summers and cold winters have taken their toll on Farmer John's fence, and he decides it is time to repaint it, along with the help of his favorite cow, Bessie. Unfortunately, while Bessie is actually remarkably proficient at painting, she is not as good at understanding Farmer John's instructions.\n",
    "\n",
    "If we regard the fence as a one-dimensional number line, Farmer John paints the interval between x=a and x=b. For example, if a=3 and b=5, then Farmer John paints an interval of length 2. Bessie, misunderstanding Farmer John's instructions, paints the interval from x=c to x=d, which may possibly overlap with part or all of Farmer John's interval. Please determine the total length of fence that is now covered with paint.\n",
    "\n",
    "INPUT FORMAT (file paint.in):\n",
    "\n",
    "The first line of the input contains the integers a and b, separated by a space (a<b).\n",
    "\n",
    "The second line contains integers c and d, separated by a space (c<d).\n",
    "\n",
    "The values of a, b, c, and d all lie in the range 0…100, inclusive.\n",
    "\n",
    "OUTPUT FORMAT (file paint.out):\n",
    "\n",
    "Please output a single line containing the total length of the fence covered with paint.\n",
    "\n",
    "\n",
    "SAMPLE INPUT:\n",
    "\n",
    "7 10\n",
    "4 8\n",
    "\n",
    "SAMPLE OUTPUT:\n",
    "6"
   ]
  },
  {
   "cell_type": "code",
   "execution_count": 6,
   "id": "5e893c26",
   "metadata": {},
   "outputs": [
    {
     "name": "stdout",
     "output_type": "stream",
     "text": [
      "7 10\n",
      "4 8\n",
      "6\n"
     ]
    }
   ],
   "source": [
    "# Read input\n",
    "a, b = map(int, input().split())\n",
    "c, d = map(int, input().split())\n",
    "\n",
    "# list = []\n",
    "# for number in input_numbers.split():\n",
    "#     list.append(int(number))\n",
    "\n",
    "\n",
    "# Calculate the total length of the painted fence\n",
    "painted_start = min(a, c)\n",
    "painted_end = max(b, d)\n",
    "total_painted_length = painted_end - painted_start\n",
    "\n",
    "# Output the result\n",
    "print(total_painted_length)\n"
   ]
  },
  {
   "cell_type": "code",
   "execution_count": null,
   "id": "004e16df",
   "metadata": {},
   "outputs": [],
   "source": []
  }
 ],
 "metadata": {
  "kernelspec": {
   "display_name": "Python 3 (ipykernel)",
   "language": "python",
   "name": "python3"
  },
  "language_info": {
   "codemirror_mode": {
    "name": "ipython",
    "version": 3
   },
   "file_extension": ".py",
   "mimetype": "text/x-python",
   "name": "python",
   "nbconvert_exporter": "python",
   "pygments_lexer": "ipython3",
   "version": "3.9.0"
  }
 },
 "nbformat": 4,
 "nbformat_minor": 5
}
