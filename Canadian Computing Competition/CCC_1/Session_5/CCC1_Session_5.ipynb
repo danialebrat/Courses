{
 "cells": [
  {
   "cell_type": "raw",
   "id": "0d8eb88d",
   "metadata": {},
   "source": [
    "Problem J3: Special Event\n",
    "Problem Description\n",
    "You are trying to schedule a special event on one of ﬁve possible days.\n",
    "Your job is to determine on which day you should schedule the event, so that the largest\n",
    "number of interested people are able to attend.\n",
    "\n",
    "Input Speciﬁcation\n",
    "The ﬁrst line of input will contain a positive integer N, representing the number of people\n",
    "interested in attending your event. The next Nlines will each contain one person’s availabil-\n",
    "ity using one character for each of Day 1, Day 2, Day 3, Day 4, and Day 5 (in that order).\n",
    "The character Y means the person is able to attend and a period (.) means the person is\n",
    "not able to attend.\n",
    "\n",
    "The following table shows how the available 15 marks are distributed:\n",
    "\n",
    "Marks Description\n",
    "6: There will be exactly one day on which every person will be able to attend.\n",
    "6: There will be exactly one day on which the largest number of people will be able to attend.\n",
    "3: There might be more than one day on which the largest number of people will be able to attend.\n",
    "\n",
    "Output Speciﬁcation\n",
    "\n",
    "The output will consist of one line listing the day number(s) on which the largest number of\n",
    "interested people are able to attend.\n",
    "If there is more than one day on which the largest number of people are able to attend,\n",
    "output all of these day numbers in increasing order and separated by commas (without\n",
    "spaces).\n",
    "\n",
    "Sample Input 1\n",
    "3\n",
    "YY.Y.\n",
    "...Y.\n",
    ".YYY.\n",
    "\n",
    "Output for Sample Input 1\n",
    "4\n",
    "\n",
    "Explanation of Output for Sample Input 1\n",
    "All three people are able to attend on Day 4, and they are not all available on any other day."
   ]
  },
  {
   "cell_type": "code",
   "execution_count": 9,
   "id": "7d053ce2",
   "metadata": {},
   "outputs": [
    {
     "name": "stdout",
     "output_type": "stream",
     "text": [
      "5\n",
      "YY..Y\n",
      ".YY.Y\n",
      ".Y.Y.\n",
      ".YY.Y\n",
      "Y...Y\n",
      "2,5\n"
     ]
    }
   ],
   "source": [
    "\n",
    "# Read the number of people interested in attending\n",
    "n = int(input())\n",
    "\n",
    "Days = {\n",
    "    1: 0,\n",
    "    2: 0,\n",
    "    3: 0,\n",
    "    4: 0,\n",
    "    5: 0\n",
    "}\n",
    "\n",
    "\n",
    "\n",
    "# Read the availability for each person\n",
    "for person in range(n):\n",
    "    line = input()\n",
    "    for day, char in enumerate(line, start=1):\n",
    "        if char == 'Y':\n",
    "            Days[day] += 1\n",
    "\n",
    "\n",
    "max_available = max(Days.values())\n",
    "\n",
    "best_days = []\n",
    "\n",
    "for day, count in Days.items():\n",
    "    if count == max_available:\n",
    "        best_days.append(day)\n",
    "\n",
    "  \n",
    "# Output the result\n",
    "print(*best_days, sep=\",\")\n",
    "\n",
    "         \n",
    "\n",
    "# test\n",
    "# 5\n",
    "# YY..Y\n",
    "# .YY.Y\n",
    "# .Y.Y.\n",
    "# .YY.Y\n",
    "# Y...Y\n",
    "\n"
   ]
  },
  {
   "cell_type": "code",
   "execution_count": null,
   "id": "e14bc00c",
   "metadata": {},
   "outputs": [],
   "source": []
  }
 ],
 "metadata": {
  "kernelspec": {
   "display_name": "Python 3 (ipykernel)",
   "language": "python",
   "name": "python3"
  },
  "language_info": {
   "codemirror_mode": {
    "name": "ipython",
    "version": 3
   },
   "file_extension": ".py",
   "mimetype": "text/x-python",
   "name": "python",
   "nbconvert_exporter": "python",
   "pygments_lexer": "ipython3",
   "version": "3.9.0"
  }
 },
 "nbformat": 4,
 "nbformat_minor": 5
}
